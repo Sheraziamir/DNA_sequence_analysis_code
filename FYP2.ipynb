{
 "cells": [
  {
   "cell_type": "markdown",
   "metadata": {},
   "source": [
    "# FYP Covid 19 virus detection"
   ]
  },
  {
   "cell_type": "code",
   "execution_count": 7,
   "metadata": {},
   "outputs": [
    {
     "name": "stdout",
     "output_type": "stream",
     "text": [
      "Total Amount of DNA's:  397\n"
     ]
    }
   ],
   "source": [
    "count_DNA = 0\n",
    "f = open(\"covid_19_virus_DNA.txt\",\"r\")\n",
    "file2 = open(\"covid_19_virus_DNA_cleaned.txt\",\"a\")\n",
    "for line in f:\n",
    "    if(line[0] == '>'):\n",
    "        count_DNA = count_DNA + 1\n",
    "        file2.write(\">\\n\")\n",
    "    elif (line == \"\\n\"):\n",
    "        continue\n",
    "    else:\n",
    "        file2.write(line)\n",
    "f.close()\n",
    "file2.close()\n",
    "print(\"Total Amount of DNA's: \",count_DNA)"
   ]
  },
  {
   "cell_type": "markdown",
   "metadata": {},
   "source": [
    "# Cleaning Adenovirus DNA samples"
   ]
  },
  {
   "cell_type": "code",
   "execution_count": 1,
   "metadata": {},
   "outputs": [
    {
     "name": "stdout",
     "output_type": "stream",
     "text": [
      "Total Amount of DNA's:  12\n"
     ]
    }
   ],
   "source": [
    "count_DNA = 0\n",
    "f = open(\"adenovirus_DNA_samples.txt\",\"r\")\n",
    "file2 = open(\"adenovirus_DNA_samples_cleaned.txt\",\"a\")\n",
    "for line in f:\n",
    "    if(line[0] == '>'):\n",
    "        count_DNA = count_DNA + 1\n",
    "        file2.write(\">\\n\")\n",
    "    elif (line == \"\\n\"):\n",
    "        continue\n",
    "    else:\n",
    "        file2.write(line)\n",
    "f.close()\n",
    "file2.close()\n",
    "print(\"Total Amount of DNA's: \",count_DNA)"
   ]
  },
  {
   "cell_type": "markdown",
   "metadata": {},
   "source": [
    "# CHecking NaN"
   ]
  },
  {
   "cell_type": "code",
   "execution_count": 1,
   "metadata": {},
   "outputs": [
    {
     "name": "stdout",
     "output_type": "stream",
     "text": [
      "count:  0\n"
     ]
    }
   ],
   "source": [
    "file2 = open(\"covid_19_virus_DNA_cleaned.txt\",\"r\")\n",
    "data = file2.read()\n",
    "count = 0\n",
    "for char in data:\n",
    "    if(char == \"N\"):\n",
    "        count = count + 1\n",
    "file2.close()\n",
    "print(\"count: \",count)"
   ]
  },
  {
   "cell_type": "markdown",
   "metadata": {},
   "source": [
    "# Converting txt into List"
   ]
  },
  {
   "cell_type": "code",
   "execution_count": 2,
   "metadata": {},
   "outputs": [
    {
     "name": "stdout",
     "output_type": "stream",
     "text": [
      "409\n",
      "396\n"
     ]
    }
   ],
   "source": [
    "import pandas as pd\n",
    "file = open(\"covid_19_virus_DNA_cleaned.txt\",\"r\")\n",
    "list = [\"\"] * 409 #creating a dummy empty string list of 396 size\n",
    "file_text = file.read()\n",
    "count_DNA = 0\n",
    "for char in file_text:\n",
    "    if(char == '>'):\n",
    "        count_DNA = count_DNA + 1\n",
    "        #print(count_DNA)\n",
    "    \n",
    "    if(char == '>' or char == '\\n'):\n",
    "        continue\n",
    "    else:\n",
    "        list[count_DNA] = list[count_DNA] + char\n",
    "   \n",
    "file.close()\n",
    "print(len(list))\n",
    "print(count_DNA)"
   ]
  },
  {
   "cell_type": "markdown",
   "metadata": {},
   "source": [
    "# Adding Adenovirus DNA Samples at the end of list"
   ]
  },
  {
   "cell_type": "code",
   "execution_count": 2,
   "metadata": {},
   "outputs": [
    {
     "data": {
      "text/plain": [
       "''"
      ]
     },
     "execution_count": 2,
     "metadata": {},
     "output_type": "execute_result"
    }
   ],
   "source": [
    "list[397]  # after this index,, last 12 records will be of adenovirus"
   ]
  },
  {
   "cell_type": "code",
   "execution_count": 3,
   "metadata": {},
   "outputs": [
    {
     "name": "stdout",
     "output_type": "stream",
     "text": [
      "409\n",
      "408\n"
     ]
    }
   ],
   "source": [
    "file = open(\"adenovirus_DNA_samples_cleaned.txt\",\"r\")\n",
    "file_text = file.read()\n",
    "count_DNA = 397\n",
    "for char in file_text:\n",
    "    if(char == '>'):\n",
    "        count_DNA = count_DNA + 1\n",
    "    \n",
    "    if(char == '>' or char == '\\n'):\n",
    "        continue\n",
    "    else:\n",
    "        list[count_DNA] = list[count_DNA] + char\n",
    "   \n",
    "file.close()\n",
    "print(len(list))\n",
    "print(count_DNA)"
   ]
  },
  {
   "cell_type": "markdown",
   "metadata": {},
   "source": [
    "# Count Codons from DNA"
   ]
  },
  {
   "cell_type": "code",
   "execution_count": 4,
   "metadata": {},
   "outputs": [],
   "source": [
    "#Table\n",
    "# COLUMN 1 list declarations\n",
    "count_TTT_list = [-1] * 409\n",
    "count_TTC_list = [-1] * 409\n",
    "count_TTA_list = [-1] * 409\n",
    "count_TTG_list = [-1] * 409\n",
    "\n",
    "count_CTT_list = [-1] * 409\n",
    "count_CTC_list = [-1] * 409\n",
    "count_CTA_list = [-1] * 409\n",
    "count_CTG_list = [-1] * 409\n",
    "\n",
    "count_ATT_list = [-1] * 409\n",
    "count_ATC_list = [-1] * 409\n",
    "count_ATA_list = [-1] * 409\n",
    "count_ATG_list = [-1] * 409\n",
    "\n",
    "count_GTT_list = [-1] * 409\n",
    "count_GTC_list = [-1] * 409\n",
    "count_GTA_list = [-1] * 409\n",
    "count_GTG_list = [-1] * 409\n",
    "\n",
    "\n",
    "# NEXT COLUMN 2\n",
    "count_TCT_list = [-1] * 409\n",
    "count_TCC_list = [-1] * 409\n",
    "count_TCA_list = [-1] * 409\n",
    "count_TCG_list = [-1] * 409\n",
    "\n",
    "count_CCT_list = [-1] * 409\n",
    "count_CCC_list = [-1] * 409\n",
    "count_CCA_list = [-1] * 409\n",
    "count_CCG_list = [-1] * 409\n",
    "\n",
    "count_ACT_list = [-1] * 409\n",
    "count_ACC_list = [-1] * 409\n",
    "count_ACA_list = [-1] * 409\n",
    "count_ACG_list = [-1] * 409\n",
    "\n",
    "count_GCT_list = [-1] * 409\n",
    "count_GCC_list = [-1] * 409\n",
    "count_GCA_list = [-1] * 409\n",
    "count_GCG_list = [-1] * 409\n",
    "\n",
    "\n",
    "# NEXT COLUMN 3\n",
    "count_TAT_list = [-1] * 409\n",
    "count_TAC_list = [-1] * 409\n",
    "count_TAA_list = [-1] * 409\n",
    "count_TAG_list = [-1] * 409\n",
    "\n",
    "count_CAT_list = [-1] * 409\n",
    "count_CAC_list = [-1] * 409\n",
    "count_CAA_list = [-1] * 409\n",
    "count_CAG_list = [-1] * 409\n",
    "\n",
    "count_AAT_list = [-1] * 409\n",
    "count_AAC_list = [-1] * 409\n",
    "count_AAA_list = [-1] * 409\n",
    "count_AAG_list = [-1] * 409\n",
    "\n",
    "count_GAT_list = [-1] * 409\n",
    "count_GAC_list = [-1] * 409\n",
    "count_GAA_list = [-1] * 409\n",
    "count_GAG_list = [-1] * 409\n",
    "\n",
    "# NEXT COLUMN 4\n",
    "count_TGT_list = [-1] * 409\n",
    "count_TGC_list = [-1] * 409\n",
    "count_TGA_list = [-1] * 409\n",
    "count_TGG_list = [-1] * 409\n",
    "\n",
    "count_CGT_list = [-1] * 409\n",
    "count_CGC_list = [-1] * 409\n",
    "count_CGA_list = [-1] * 409\n",
    "count_CGG_list = [-1] * 409\n",
    "\n",
    "count_AGT_list = [-1] * 409\n",
    "count_AGC_list = [-1] * 409\n",
    "count_AGA_list = [-1] * 409\n",
    "count_AGG_list = [-1] * 409\n",
    "\n",
    "count_GGT_list = [-1] * 409\n",
    "count_GGC_list = [-1] * 409\n",
    "count_GGA_list = [-1] * 409\n",
    "count_GGG_list = [-1] * 409"
   ]
  },
  {
   "cell_type": "code",
   "execution_count": 5,
   "metadata": {},
   "outputs": [
    {
     "name": "stdout",
     "output_type": "stream",
     "text": [
      "Wall time: 0 ns\n"
     ]
    }
   ],
   "source": [
    "# counting Codons from each DNA sample ,,, list contains DNA sample list\n",
    "%time\n",
    "for i in range(0,len(list)):\n",
    "    DNA_sample = list[i]\n",
    "    # Table column 1\n",
    "    count_TTT_list[i] = DNA_sample.count(\"TTT\")\n",
    "    count_TTC_list[i] = DNA_sample.count(\"TTC\")\n",
    "    count_TTA_list[i] = DNA_sample.count(\"TTA\")\n",
    "    count_TTG_list[i] = DNA_sample.count(\"TTG\")\n",
    "\n",
    "    count_CTT_list[i] = DNA_sample.count(\"CTT\")\n",
    "    count_CTC_list[i] = DNA_sample.count(\"CTC\")\n",
    "    count_CTA_list[i] = DNA_sample.count(\"CTA\")\n",
    "    count_CTG_list[i] = DNA_sample.count(\"CTG\")\n",
    "\n",
    "    count_ATT_list[i] = DNA_sample.count(\"ATT\")\n",
    "    count_ATC_list[i] = DNA_sample.count(\"ATC\")\n",
    "    count_ATA_list[i] = DNA_sample.count(\"ATA\")\n",
    "    count_ATG_list[i] = DNA_sample.count(\"ATG\")\n",
    "\n",
    "    count_GTT_list[i] = DNA_sample.count(\"GTT\")\n",
    "    count_GTC_list[i] = DNA_sample.count(\"GTC\")\n",
    "    count_GTA_list[i] = DNA_sample.count(\"GTA\")\n",
    "    count_GTG_list[i] = DNA_sample.count(\"GTG\")\n",
    "\n",
    "\n",
    "    # Table COLUMN 2\n",
    "    count_TCT_list[i] = DNA_sample.count(\"TCT\")\n",
    "    count_TCC_list[i] = DNA_sample.count(\"TCC\")\n",
    "    count_TCA_list[i] = DNA_sample.count(\"TCA\")\n",
    "    count_TCG_list[i] = DNA_sample.count(\"TCG\")\n",
    "\n",
    "    count_CCT_list[i] = DNA_sample.count(\"CCT\")\n",
    "    count_CCC_list[i] = DNA_sample.count(\"CCC\")\n",
    "    count_CCA_list[i] = DNA_sample.count(\"CCA\")\n",
    "    count_CCG_list[i] = DNA_sample.count(\"CCG\")\n",
    "\n",
    "    count_ACT_list[i] = DNA_sample.count(\"ACT\")\n",
    "    count_ACC_list[i] = DNA_sample.count(\"ACC\")\n",
    "    count_ACA_list[i] = DNA_sample.count(\"ACA\")\n",
    "    count_ACG_list[i] = DNA_sample.count(\"ACG\")\n",
    "\n",
    "    count_GCT_list[i] = DNA_sample.count(\"GCT\")\n",
    "    count_GCC_list[i] = DNA_sample.count(\"GCC\")\n",
    "    count_GCA_list[i] = DNA_sample.count(\"GCA\")\n",
    "    count_GCG_list[i] = DNA_sample.count(\"GCG\")\n",
    "\n",
    "\n",
    "    # Table COLUMN 3\n",
    "    count_TAT_list[i] = DNA_sample.count(\"TAT\")\n",
    "    count_TAC_list[i] = DNA_sample.count(\"TAC\")\n",
    "    count_TAA_list[i] = DNA_sample.count(\"TAA\")\n",
    "    count_TAG_list[i] = DNA_sample.count(\"TAG\")\n",
    "\n",
    "    count_CAT_list[i] = DNA_sample.count(\"CAT\")\n",
    "    count_CAC_list[i] = DNA_sample.count(\"CAC\")\n",
    "    count_CAA_list[i] = DNA_sample.count(\"CAA\")\n",
    "    count_CAG_list[i] = DNA_sample.count(\"CAG\")\n",
    "\n",
    "    count_AAT_list[i] = DNA_sample.count(\"AAT\")\n",
    "    count_AAC_list[i] = DNA_sample.count(\"AAC\")\n",
    "    count_AAA_list[i] = DNA_sample.count(\"AAA\")\n",
    "    count_AAG_list[i] = DNA_sample.count(\"AAG\")\n",
    "\n",
    "    count_GAT_list[i] = DNA_sample.count(\"GAT\")\n",
    "    count_GAC_list[i] = DNA_sample.count(\"GAC\")\n",
    "    count_GAA_list[i] = DNA_sample.count(\"GAA\")\n",
    "    count_GAG_list[i] = DNA_sample.count(\"GAG\")\n",
    "\n",
    "    # Table COLUMN 4\n",
    "    count_TGT_list[i] = DNA_sample.count(\"TGT\")\n",
    "    count_TGC_list[i] = DNA_sample.count(\"TGC\")\n",
    "    count_TGA_list[i] = DNA_sample.count(\"TGA\")\n",
    "    count_TGG_list[i] = DNA_sample.count(\"TGG\")\n",
    "\n",
    "    count_CGT_list[i] = DNA_sample.count(\"CGT\")\n",
    "    count_CGC_list[i] = DNA_sample.count(\"CGC\")\n",
    "    count_CGA_list[i] = DNA_sample.count(\"CGA\")\n",
    "    count_CGG_list[i] = DNA_sample.count(\"CGG\")\n",
    "\n",
    "    count_AGT_list[i] = DNA_sample.count(\"AGT\")\n",
    "    count_AGC_list[i] = DNA_sample.count(\"AGC\")\n",
    "    count_AGA_list[i] = DNA_sample.count(\"AGA\")\n",
    "    count_AGG_list[i] = DNA_sample.count(\"AGG\")\n",
    "\n",
    "    count_GGT_list[i] = DNA_sample.count(\"GGT\")\n",
    "    count_GGC_list[i] = DNA_sample.count(\"GGC\")\n",
    "    count_GGA_list[i] = DNA_sample.count(\"GGA\")\n",
    "    count_GGG_list[i] = DNA_sample.count(\"GGG\")"
   ]
  },
  {
   "cell_type": "code",
   "execution_count": 7,
   "metadata": {},
   "outputs": [],
   "source": [
    "dictionary = {\n",
    "              #Table Column 1\n",
    "              'count_TTT':count_TTT_list,\n",
    "              'count_TTC':count_TTC_list,\n",
    "              'count_TTA':count_TTA_list,\n",
    "              'count_TTG':count_TTG_list,\n",
    "              \n",
    "              'count_CTT':count_CTT_list,\n",
    "              'count_CTC':count_CTC_list,\n",
    "              'count_CTA':count_CTA_list,\n",
    "              'count_CTG':count_CTG_list,\n",
    "             \n",
    "              'count_ATT':count_ATT_list,\n",
    "              'count_ATC':count_ATC_list,\n",
    "              'count_ATA':count_ATA_list,\n",
    "              'count_ATG':count_ATG_list,\n",
    "             \n",
    "              'count_GTT':count_GTT_list,\n",
    "              'count_GTC':count_GTC_list,\n",
    "              'count_GTA':count_GTA_list,\n",
    "              'count_GTG':count_GTG_list,\n",
    "             \n",
    "              #Table Column 2\n",
    "              'count_TCT':count_TCT_list,\n",
    "              'count_TCC':count_TCC_list,\n",
    "              'count_TCA':count_TCA_list,\n",
    "              'count_TCG':count_TCG_list,\n",
    "              \n",
    "              'count_CCT':count_CCT_list,\n",
    "              'count_CCC':count_CCC_list,\n",
    "              'count_CCA':count_CCA_list,\n",
    "              'count_CCG':count_CCG_list,\n",
    "             \n",
    "              'count_ACT':count_ACT_list,\n",
    "              'count_ACC':count_ACC_list,\n",
    "              'count_ACA':count_ACA_list,\n",
    "              'count_ACG':count_ACG_list,\n",
    "             \n",
    "              'count_GCT':count_GCT_list,\n",
    "              'count_GCC':count_GCC_list,\n",
    "              'count_GCA':count_GCA_list,\n",
    "              'count_GCG':count_GCG_list,\n",
    "             \n",
    "             \n",
    "              #Table Column 3\n",
    "              'count_TAT':count_TAT_list,\n",
    "              'count_TAC':count_TAC_list,\n",
    "              'count_TAA':count_TAA_list,\n",
    "              'count_TAG':count_TAG_list,\n",
    "              \n",
    "              'count_CAT':count_CAT_list,\n",
    "              'count_CAC':count_CAC_list,\n",
    "              'count_CAA':count_CAA_list,\n",
    "              'count_CAG':count_CAG_list,\n",
    "             \n",
    "              'count_AAT':count_AAT_list,\n",
    "              'count_AAC':count_AAC_list,\n",
    "              'count_AAA':count_AAA_list,\n",
    "              'count_AAG':count_AAG_list,\n",
    "             \n",
    "              'count_GAT':count_GAT_list,\n",
    "              'count_GAC':count_GAC_list,\n",
    "              'count_GAA':count_GAA_list,\n",
    "              'count_GAG':count_GAG_list,\n",
    "             \n",
    "                           \n",
    "              #Table Column 4\n",
    "              'count_TGT':count_TGT_list,\n",
    "              'count_TGC':count_TGC_list,\n",
    "              'count_TGA':count_TGA_list,\n",
    "              'count_TGG':count_TGG_list,\n",
    "              \n",
    "              'count_CGT':count_CGT_list,\n",
    "              'count_CGC':count_CGC_list,\n",
    "              'count_CGA':count_CGA_list,\n",
    "              'count_CGG':count_CGG_list,\n",
    "             \n",
    "              'count_AGT':count_AGT_list,\n",
    "              'count_AGC':count_AGC_list,\n",
    "              'count_AGA':count_AGA_list,\n",
    "              'count_AGG':count_AGG_list,\n",
    "             \n",
    "              'count_GGT':count_GGT_list,\n",
    "              'count_GGC':count_GGC_list,\n",
    "              'count_GGA':count_GGA_list,\n",
    "              'count_GGG':count_GGG_list,              \n",
    "              \n",
    "             }"
   ]
  },
  {
   "cell_type": "markdown",
   "metadata": {},
   "source": [
    "# storing result into csv file"
   ]
  },
  {
   "cell_type": "code",
   "execution_count": 21,
   "metadata": {},
   "outputs": [],
   "source": [
    "import pandas as pd\n",
    "df = pd.DataFrame(dictionary)\n",
    "df.to_csv(\"Codons count from DNA.csv\")"
   ]
  },
  {
   "cell_type": "markdown",
   "metadata": {},
   "source": [
    "# getting data from csv using pandas"
   ]
  },
  {
   "cell_type": "code",
   "execution_count": 2,
   "metadata": {
    "scrolled": true
   },
   "outputs": [
    {
     "data": {
      "text/html": [
       "<div>\n",
       "<style scoped>\n",
       "    .dataframe tbody tr th:only-of-type {\n",
       "        vertical-align: middle;\n",
       "    }\n",
       "\n",
       "    .dataframe tbody tr th {\n",
       "        vertical-align: top;\n",
       "    }\n",
       "\n",
       "    .dataframe thead th {\n",
       "        text-align: right;\n",
       "    }\n",
       "</style>\n",
       "<table border=\"1\" class=\"dataframe\">\n",
       "  <thead>\n",
       "    <tr style=\"text-align: right;\">\n",
       "      <th></th>\n",
       "      <th>Unnamed: 0</th>\n",
       "      <th>count_TTT</th>\n",
       "      <th>count_TTC</th>\n",
       "      <th>count_TTA</th>\n",
       "      <th>count_TTG</th>\n",
       "      <th>count_CTT</th>\n",
       "      <th>count_CTC</th>\n",
       "      <th>count_CTA</th>\n",
       "      <th>count_CTG</th>\n",
       "      <th>count_ATT</th>\n",
       "      <th>...</th>\n",
       "      <th>count_CGA</th>\n",
       "      <th>count_CGG</th>\n",
       "      <th>count_AGT</th>\n",
       "      <th>count_AGC</th>\n",
       "      <th>count_AGA</th>\n",
       "      <th>count_AGG</th>\n",
       "      <th>count_GGT</th>\n",
       "      <th>count_GGC</th>\n",
       "      <th>count_GGA</th>\n",
       "      <th>count_GGG</th>\n",
       "    </tr>\n",
       "  </thead>\n",
       "  <tbody>\n",
       "    <tr>\n",
       "      <th>0</th>\n",
       "      <td>0</td>\n",
       "      <td>709</td>\n",
       "      <td>518</td>\n",
       "      <td>876</td>\n",
       "      <td>817</td>\n",
       "      <td>738</td>\n",
       "      <td>269</td>\n",
       "      <td>561</td>\n",
       "      <td>495</td>\n",
       "      <td>773</td>\n",
       "      <td>...</td>\n",
       "      <td>95</td>\n",
       "      <td>76</td>\n",
       "      <td>507</td>\n",
       "      <td>301</td>\n",
       "      <td>570</td>\n",
       "      <td>329</td>\n",
       "      <td>454</td>\n",
       "      <td>223</td>\n",
       "      <td>282</td>\n",
       "      <td>119</td>\n",
       "    </tr>\n",
       "    <tr>\n",
       "      <th>1</th>\n",
       "      <td>1</td>\n",
       "      <td>20</td>\n",
       "      <td>34</td>\n",
       "      <td>16</td>\n",
       "      <td>19</td>\n",
       "      <td>37</td>\n",
       "      <td>63</td>\n",
       "      <td>19</td>\n",
       "      <td>116</td>\n",
       "      <td>14</td>\n",
       "      <td>...</td>\n",
       "      <td>18</td>\n",
       "      <td>32</td>\n",
       "      <td>36</td>\n",
       "      <td>70</td>\n",
       "      <td>35</td>\n",
       "      <td>70</td>\n",
       "      <td>29</td>\n",
       "      <td>86</td>\n",
       "      <td>73</td>\n",
       "      <td>56</td>\n",
       "    </tr>\n",
       "    <tr>\n",
       "      <th>2</th>\n",
       "      <td>2</td>\n",
       "      <td>30</td>\n",
       "      <td>61</td>\n",
       "      <td>20</td>\n",
       "      <td>32</td>\n",
       "      <td>62</td>\n",
       "      <td>89</td>\n",
       "      <td>40</td>\n",
       "      <td>187</td>\n",
       "      <td>18</td>\n",
       "      <td>...</td>\n",
       "      <td>41</td>\n",
       "      <td>64</td>\n",
       "      <td>63</td>\n",
       "      <td>109</td>\n",
       "      <td>59</td>\n",
       "      <td>111</td>\n",
       "      <td>48</td>\n",
       "      <td>148</td>\n",
       "      <td>117</td>\n",
       "      <td>93</td>\n",
       "    </tr>\n",
       "    <tr>\n",
       "      <th>3</th>\n",
       "      <td>3</td>\n",
       "      <td>30</td>\n",
       "      <td>56</td>\n",
       "      <td>20</td>\n",
       "      <td>31</td>\n",
       "      <td>58</td>\n",
       "      <td>88</td>\n",
       "      <td>40</td>\n",
       "      <td>189</td>\n",
       "      <td>18</td>\n",
       "      <td>...</td>\n",
       "      <td>38</td>\n",
       "      <td>59</td>\n",
       "      <td>60</td>\n",
       "      <td>107</td>\n",
       "      <td>56</td>\n",
       "      <td>108</td>\n",
       "      <td>46</td>\n",
       "      <td>144</td>\n",
       "      <td>109</td>\n",
       "      <td>86</td>\n",
       "    </tr>\n",
       "    <tr>\n",
       "      <th>4</th>\n",
       "      <td>4</td>\n",
       "      <td>20</td>\n",
       "      <td>36</td>\n",
       "      <td>16</td>\n",
       "      <td>19</td>\n",
       "      <td>38</td>\n",
       "      <td>68</td>\n",
       "      <td>24</td>\n",
       "      <td>125</td>\n",
       "      <td>15</td>\n",
       "      <td>...</td>\n",
       "      <td>20</td>\n",
       "      <td>36</td>\n",
       "      <td>37</td>\n",
       "      <td>81</td>\n",
       "      <td>40</td>\n",
       "      <td>77</td>\n",
       "      <td>31</td>\n",
       "      <td>94</td>\n",
       "      <td>80</td>\n",
       "      <td>61</td>\n",
       "    </tr>\n",
       "  </tbody>\n",
       "</table>\n",
       "<p>5 rows × 65 columns</p>\n",
       "</div>"
      ],
      "text/plain": [
       "   Unnamed: 0  count_TTT  count_TTC  count_TTA  count_TTG  count_CTT  \\\n",
       "0           0        709        518        876        817        738   \n",
       "1           1         20         34         16         19         37   \n",
       "2           2         30         61         20         32         62   \n",
       "3           3         30         56         20         31         58   \n",
       "4           4         20         36         16         19         38   \n",
       "\n",
       "   count_CTC  count_CTA  count_CTG  count_ATT  ...  count_CGA  count_CGG  \\\n",
       "0        269        561        495        773  ...         95         76   \n",
       "1         63         19        116         14  ...         18         32   \n",
       "2         89         40        187         18  ...         41         64   \n",
       "3         88         40        189         18  ...         38         59   \n",
       "4         68         24        125         15  ...         20         36   \n",
       "\n",
       "   count_AGT  count_AGC  count_AGA  count_AGG  count_GGT  count_GGC  \\\n",
       "0        507        301        570        329        454        223   \n",
       "1         36         70         35         70         29         86   \n",
       "2         63        109         59        111         48        148   \n",
       "3         60        107         56        108         46        144   \n",
       "4         37         81         40         77         31         94   \n",
       "\n",
       "   count_GGA  count_GGG  \n",
       "0        282        119  \n",
       "1         73         56  \n",
       "2        117         93  \n",
       "3        109         86  \n",
       "4         80         61  \n",
       "\n",
       "[5 rows x 65 columns]"
      ]
     },
     "execution_count": 2,
     "metadata": {},
     "output_type": "execute_result"
    }
   ],
   "source": [
    "import pandas as pd\n",
    "codons_count_list = pd.read_csv(\"Codons count from DNA.csv\")\n",
    "codons_count_list.head()\n",
    "#type(codons_count_list)"
   ]
  },
  {
   "cell_type": "code",
   "execution_count": 8,
   "metadata": {},
   "outputs": [],
   "source": [
    "\n",
    "#codons_count_list.iloc[253,2] used to access particular cell, iloc[rowNumber,columnNumber]"
   ]
  },
  {
   "cell_type": "markdown",
   "metadata": {},
   "source": [
    "# finding max nd min from each Codon count column"
   ]
  },
  {
   "cell_type": "code",
   "execution_count": 4,
   "metadata": {},
   "outputs": [],
   "source": [
    "codon_max_count = [-1] * 64\n",
    "codon_min_count = [-1] * 64 \n",
    "codon_avg_count = [-1] * 64\n",
    "target_variable = [1] * 64\n",
    "other_virus_codon_max_count = [-1] * 64\n",
    "other_virus_codon_min_count = [-1] * 64 \n",
    "other_virus_codon_avg_count = [-1] * 64\n",
    "other_virus_target_variable = [0] * 64\n",
    "currentIndex = 0\n",
    "for columnIndex in range(1,65):\n",
    "    each_column = codons_count_list.iloc[:,columnIndex]\n",
    "    codon_max_count[currentIndex] = each_column[0]\n",
    "    codon_min_count[currentIndex] = each_column[0]\n",
    "    for rowIndex in range(0,396):  # because after 396 record, other virus count will begin\n",
    "        current_count = each_column[rowIndex]\n",
    "        if(current_count>codon_max_count[currentIndex]):\n",
    "            codon_max_count[currentIndex] = current_count\n",
    "        if(current_count<codon_min_count[currentIndex]):\n",
    "            codon_min_count[currentIndex] = current_count\n",
    "    # counting for other virus after 396 record\n",
    "    other_virus_codon_max_count[currentIndex] = each_column[0]\n",
    "    other_virus_codon_min_count[currentIndex] = each_column[0]\n",
    "    for rowIndex in range(397,len(each_column)):  # because after 396 record, other virus count will begin\n",
    "        current_count = each_column[rowIndex]\n",
    "        if(current_count>other_virus_codon_max_count[currentIndex]):\n",
    "            other_virus_codon_max_count[currentIndex] = current_count\n",
    "        if(current_count<other_virus_codon_min_count[currentIndex]):\n",
    "            other_virus_codon_min_count[currentIndex] = current_count\n",
    "    \n",
    "    \n",
    "    \n",
    "    currentIndex = currentIndex + 1\n",
    "# finding average of min and max count\n",
    "for i in range(0,len(codon_max_count)):\n",
    "    codon_avg_count[i] =(codon_max_count[i] +codon_min_count[i]) / 2\n",
    "    other_virus_codon_avg_count[i] =(other_virus_codon_max_count[i] +other_virus_codon_min_count[i]) / 2 # counting other virus avg"
   ]
  },
  {
   "cell_type": "markdown",
   "metadata": {},
   "source": [
    "# Combing other virus and Covid 19 virus datasets"
   ]
  },
  {
   "cell_type": "code",
   "execution_count": 5,
   "metadata": {},
   "outputs": [],
   "source": [
    "codon_avg_count = codon_avg_count + other_virus_codon_avg_count\n",
    "target_variable = target_variable + other_virus_target_variable\n"
   ]
  },
  {
   "cell_type": "code",
   "execution_count": 6,
   "metadata": {},
   "outputs": [
    {
     "data": {
      "text/plain": [
       "[868.5,\n",
       " 770.5,\n",
       " 740.5,\n",
       " 840.5,\n",
       " 897.5,\n",
       " 775.0,\n",
       " 472.5,\n",
       " 1151.0,\n",
       " 798.5,\n",
       " 498.5,\n",
       " 658.0,\n",
       " 710.0,\n",
       " 630.5,\n",
       " 472.5,\n",
       " 389.0,\n",
       " 713.0,\n",
       " 869.5,\n",
       " 733.5,\n",
       " 796.5,\n",
       " 94.5,\n",
       " 987.0,\n",
       " 598.0,\n",
       " 980.5,\n",
       " 143.0,\n",
       " 620.5,\n",
       " 599.5,\n",
       " 759.0,\n",
       " 158.0,\n",
       " 760.0,\n",
       " 769.5,\n",
       " 751.5,\n",
       " 125.0,\n",
       " 673.5,\n",
       " 426.0,\n",
       " 770.0,\n",
       " 483.0,\n",
       " 738.0,\n",
       " 663.5,\n",
       " 688.0,\n",
       " 1169.5,\n",
       " 881.5,\n",
       " 588.5,\n",
       " 954.5,\n",
       " 812.5,\n",
       " 510.0,\n",
       " 459.5,\n",
       " 748.0,\n",
       " 834.0,\n",
       " 812.0,\n",
       " 765.5,\n",
       " 825.5,\n",
       " 991.0,\n",
       " 127.5,\n",
       " 133.5,\n",
       " 117.5,\n",
       " 161.5,\n",
       " 690.0,\n",
       " 788.0,\n",
       " 832.0,\n",
       " 970.0,\n",
       " 574.5,\n",
       " 734.5,\n",
       " 782.5,\n",
       " 585.5,\n",
       " 354.5,\n",
       " 259.0,\n",
       " 438.0,\n",
       " 408.5,\n",
       " 369.0,\n",
       " 265.0,\n",
       " 280.5,\n",
       " 371.0,\n",
       " 386.5,\n",
       " 199.5,\n",
       " 224.0,\n",
       " 362.5,\n",
       " 350.0,\n",
       " 225.5,\n",
       " 234.5,\n",
       " 289.5,\n",
       " 254.5,\n",
       " 301.5,\n",
       " 274.5,\n",
       " 187.5,\n",
       " 340.0,\n",
       " 275.5,\n",
       " 382.5,\n",
       " 357.5,\n",
       " 337.0,\n",
       " 357.5,\n",
       " 377.5,\n",
       " 239.0,\n",
       " 330.5,\n",
       " 411.5,\n",
       " 385.5,\n",
       " 432.0,\n",
       " 297.5,\n",
       " 304.5,\n",
       " 359.5,\n",
       " 213.5,\n",
       " 262.5,\n",
       " 293.5,\n",
       " 351.5,\n",
       " 382.5,\n",
       " 380.5,\n",
       " 307.5,\n",
       " 327.0,\n",
       " 292.0,\n",
       " 220.5,\n",
       " 272.5,\n",
       " 267.5,\n",
       " 312.0,\n",
       " 400.5,\n",
       " 354.0,\n",
       " 315.0,\n",
       " 359.0,\n",
       " 222.0,\n",
       " 429.0,\n",
       " 225.5,\n",
       " 341.5,\n",
       " 253.5,\n",
       " 366.5,\n",
       " 285.0,\n",
       " 325.5,\n",
       " 295.0,\n",
       " 425.5,\n",
       " 306.5,\n",
       " 253.5]"
      ]
     },
     "execution_count": 6,
     "metadata": {},
     "output_type": "execute_result"
    }
   ],
   "source": [
    "codon_avg_count"
   ]
  },
  {
   "cell_type": "markdown",
   "metadata": {},
   "source": [
    "# Applying decision Tree"
   ]
  },
  {
   "cell_type": "code",
   "execution_count": 9,
   "metadata": {},
   "outputs": [
    {
     "name": "stdout",
     "output_type": "stream",
     "text": [
      "   codon  covid\n",
      "0  868.5      1\n",
      "1  770.5      1\n",
      "2  740.5      1\n",
      "3  840.5      1\n",
      "4  897.5      1\n",
      "Accuracy: 97.43589743589743 %\n"
     ]
    }
   ],
   "source": [
    "# Load libraries\n",
    "import pandas as pd\n",
    "import numpy as np\n",
    "from sklearn.tree import DecisionTreeClassifier # Import Decision Tree Classifier\n",
    "from sklearn.model_selection import train_test_split # Import train_test_split function\n",
    "from sklearn import metrics #Import scikit-learn metrics module for accuracy calculation\n",
    "col_names = ['codon','covid']\n",
    "dic = {'codon':codon_avg_count,'covid':target_variable}\n",
    "data = pd.DataFrame(dic)\n",
    "print(data.head())\n",
    "#split dataset in features and target variable\n",
    "X = np.array(data.codon) # Features\n",
    "y = data.covid # Target variable\n",
    "X = X.reshape(-1, 1) # because 2D is the requirement,, so covnerting single feature 1D into 2D\n",
    "# Split dataset into training set and test set\n",
    "X_train, X_test, y_train, y_test = train_test_split(X, y, test_size=0.3, random_state=1) # 70% training and 30% test\n",
    "\n",
    "# Create Decision Tree classifer object\n",
    "clf = DecisionTreeClassifier()\n",
    "\n",
    "# Train Decision Tree Classifer\n",
    "clf = clf.fit(X_train,y_train)\n",
    "\n",
    "#Predict the response for test dataset\n",
    "y_pred = clf.predict(X_test)\n",
    "\n",
    "# Model Accuracy, how often is the classifier correct?\n",
    "print(\"Accuracy:\",metrics.accuracy_score(y_test, y_pred)*100,\"%\")\n",
    "# Model Precision: what percentage of positive tuples are labeled as such?\n",
    "#print(\"Precision:\",metrics.precision_score(y_test, y_pred))\n",
    "\n",
    "# Model Recall: what percentage of positive tuples are labelled as such?\n",
    "#print(\"Recall:\",metrics.recall_score(y_test, y_pred))"
   ]
  },
  {
   "cell_type": "code",
   "execution_count": 8,
   "metadata": {},
   "outputs": [
    {
     "ename": "NameError",
     "evalue": "name 'X' is not defined",
     "output_type": "error",
     "traceback": [
      "\u001b[1;31m---------------------------------------------------------------------------\u001b[0m",
      "\u001b[1;31mNameError\u001b[0m                                 Traceback (most recent call last)",
      "\u001b[1;32m<ipython-input-8-b5fec669aca1>\u001b[0m in \u001b[0;36m<module>\u001b[1;34m\u001b[0m\n\u001b[1;32m----> 1\u001b[1;33m \u001b[0mX\u001b[0m\u001b[1;33m\u001b[0m\u001b[1;33m\u001b[0m\u001b[0m\n\u001b[0m",
      "\u001b[1;31mNameError\u001b[0m: name 'X' is not defined"
     ]
    }
   ],
   "source": [
    "X"
   ]
  },
  {
   "cell_type": "markdown",
   "metadata": {},
   "source": [
    "# Applying KNN( K-Nearest Neighbor )"
   ]
  },
  {
   "cell_type": "code",
   "execution_count": 66,
   "metadata": {},
   "outputs": [
    {
     "name": "stdout",
     "output_type": "stream",
     "text": [
      "[0 0 1 1 0 0 0 1 1 1 0 0 1 0 0 1 1 1 0 0 0 1 1 0 0 0 0 1 0 1 1 1 0 0 0 1 0\n",
      " 0 0]\n",
      "Accuracy: 94.87179487179486 %\n"
     ]
    }
   ],
   "source": [
    "from sklearn.neighbors import KNeighborsClassifier\n",
    "\n",
    "model = KNeighborsClassifier(n_neighbors=3)\n",
    "\n",
    "# Train the model using the training sets\n",
    "model.fit(X_train,y_train)\n",
    "\n",
    "#Predict Output\n",
    "predicted= model.predict(X_test) # 0:Overcast, 2:Mild\n",
    "print(predicted)\n",
    "# Model Accuracy, how often is the classifier correct?\n",
    "print(\"Accuracy:\",metrics.accuracy_score(y_test,predicted)*100,\"%\")"
   ]
  },
  {
   "cell_type": "markdown",
   "metadata": {},
   "source": [
    "# Applying SVM( Support Vector Machine)"
   ]
  },
  {
   "cell_type": "code",
   "execution_count": 67,
   "metadata": {},
   "outputs": [
    {
     "name": "stdout",
     "output_type": "stream",
     "text": [
      "Accuracy: 84.61538461538461 %\n"
     ]
    }
   ],
   "source": [
    "#Import svm model\n",
    "from sklearn import svm\n",
    "\n",
    "#Create a svm Classifier\n",
    "clf = svm.SVC(kernel='linear') # Linear Kernel\n",
    "\n",
    "#Train the model using the training sets\n",
    "clf.fit(X_train, y_train)\n",
    "\n",
    "#Predict the response for test dataset\n",
    "y_pred = clf.predict(X_test)\n",
    "# Model Accuracy: how often is the classifier correct?\n",
    "print(\"Accuracy:\",metrics.accuracy_score(y_test, y_pred)*100,\"%\")"
   ]
  },
  {
   "cell_type": "markdown",
   "metadata": {},
   "source": [
    "# Working with Neural network"
   ]
  },
  {
   "cell_type": "code",
   "execution_count": 68,
   "metadata": {},
   "outputs": [
    {
     "name": "stdout",
     "output_type": "stream",
     "text": [
      "2.3.0\n"
     ]
    }
   ],
   "source": [
    "import tensorflow as tf\n",
    "print(tf.__version__) # checking version"
   ]
  },
  {
   "cell_type": "markdown",
   "metadata": {},
   "source": [
    "# The Network Architecture"
   ]
  },
  {
   "cell_type": "code",
   "execution_count": 85,
   "metadata": {},
   "outputs": [],
   "source": [
    "from tensorflow.keras import models\n",
    "from tensorflow.keras import layers\n",
    "\n",
    "network = models.Sequential(tf.keras.models.Sequential([tf.keras.layers.Flatten(),\n",
    "                                                        layers.Dense(50, activation='relu'),\n",
    "                                                        layers.Dense(40, activation='relu'),\n",
    "                                                        layers.Dense(30, activation='relu'),\n",
    "                                                        layers.Dense(20, activation='relu'),\n",
    "                                                        layers.Dense(10, activation='relu'),\n",
    "                                                        layers.Dense(1, activation='sigmoid')]))\n",
    "                            # it can be sequential or functional API\n",
    "\n",
    "#network.add(layers.Dense(512, activation='relu'))\n",
    "#network.add(layers.Dense(1, activation='sigmoid'))"
   ]
  },
  {
   "cell_type": "markdown",
   "metadata": {},
   "source": [
    "# The compilation step"
   ]
  },
  {
   "cell_type": "code",
   "execution_count": 86,
   "metadata": {},
   "outputs": [],
   "source": [
    "network.compile(optimizer = 'rmsprop',\n",
    "                loss = 'binary_crossentropy',\n",
    "                metrics = ['accuracy'])"
   ]
  },
  {
   "cell_type": "markdown",
   "metadata": {},
   "source": [
    "# Training the Model"
   ]
  },
  {
   "cell_type": "code",
   "execution_count": 87,
   "metadata": {},
   "outputs": [
    {
     "name": "stdout",
     "output_type": "stream",
     "text": [
      "Epoch 1/5\n",
      "1/1 [==============================] - 0s 0s/step - loss: 31.1790 - accuracy: 0.4607\n",
      "Epoch 2/5\n",
      "1/1 [==============================] - 0s 11ms/step - loss: 15.4210 - accuracy: 0.4607\n",
      "Epoch 3/5\n",
      "1/1 [==============================] - 0s 0s/step - loss: 5.3387 - accuracy: 0.4607\n",
      "Epoch 4/5\n",
      "1/1 [==============================] - 0s 8ms/step - loss: 0.8040 - accuracy: 0.4607\n",
      "Epoch 5/5\n",
      "1/1 [==============================] - 0s 0s/step - loss: 1.0576 - accuracy: 0.5393\n"
     ]
    },
    {
     "data": {
      "text/plain": [
       "<tensorflow.python.keras.callbacks.History at 0x2432c9c2310>"
      ]
     },
     "execution_count": 87,
     "metadata": {},
     "output_type": "execute_result"
    }
   ],
   "source": [
    "network.fit(X_train, y_train, epochs = 5, batch_size = 128)"
   ]
  },
  {
   "cell_type": "markdown",
   "metadata": {},
   "source": [
    "# Testing the Model"
   ]
  },
  {
   "cell_type": "code",
   "execution_count": 77,
   "metadata": {},
   "outputs": [
    {
     "name": "stdout",
     "output_type": "stream",
     "text": [
      "2/2 [==============================] - 0s 0s/step - loss: 2.4138 - accuracy: 0.4103\n",
      "test_accuracy 41.025641560554504 %\n"
     ]
    }
   ],
   "source": [
    "# testing the model\n",
    "test_loss, test_acc = network.evaluate(X_test, y_test)\n",
    "print('test_accuracy', test_acc*100,\"%\")"
   ]
  }
 ],
 "metadata": {
  "kernelspec": {
   "display_name": "Python 3",
   "language": "python",
   "name": "python3"
  },
  "language_info": {
   "codemirror_mode": {
    "name": "ipython",
    "version": 3
   },
   "file_extension": ".py",
   "mimetype": "text/x-python",
   "name": "python",
   "nbconvert_exporter": "python",
   "pygments_lexer": "ipython3",
   "version": "3.8.8"
  }
 },
 "nbformat": 4,
 "nbformat_minor": 2
}
